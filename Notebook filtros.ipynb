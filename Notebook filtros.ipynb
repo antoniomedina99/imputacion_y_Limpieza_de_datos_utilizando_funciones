{
 "cells": [
  {
   "cell_type": "markdown",
   "id": "75e18d88",
   "metadata": {},
   "source": [
    "# Titanic Competition"
   ]
  },
  {
   "cell_type": "code",
   "execution_count": 1,
   "id": "18fa2d0f",
   "metadata": {
    "ExecuteTime": {
     "end_time": "2023-03-16T11:32:40.625701Z",
     "start_time": "2023-03-16T11:32:39.905828Z"
    },
    "run_control": {
     "marked": false
    }
   },
   "outputs": [],
   "source": [
    "import numpy as np # linear algebra\n",
    "import pandas as pd # data processing, CSV file I/O (e.g. pd.read_csv)"
   ]
  },
  {
   "cell_type": "code",
   "execution_count": 2,
   "id": "5e4c9c7f",
   "metadata": {
    "ExecuteTime": {
     "end_time": "2023-03-16T11:32:41.482193Z",
     "start_time": "2023-03-16T11:32:41.416132Z"
    },
    "run_control": {
     "marked": false
    }
   },
   "outputs": [],
   "source": [
    "# Importar data\n",
    "\n",
    "train = pd.read_csv('train.csv')\n",
    "test = pd.read_csv('test.csv')\n",
    "sub = pd.read_csv('gender_submission.csv')"
   ]
  },
  {
   "cell_type": "markdown",
   "id": "34edf50a",
   "metadata": {},
   "source": [
    "# Exploratory Data Analysis"
   ]
  },
  {
   "cell_type": "code",
   "execution_count": 4,
   "id": "1a3d427a",
   "metadata": {
    "ExecuteTime": {
     "end_time": "2023-03-12T20:46:34.625210Z",
     "start_time": "2023-03-12T20:46:34.596016Z"
    },
    "run_control": {
     "marked": false
    }
   },
   "outputs": [
    {
     "data": {
      "text/html": [
       "<div>\n",
       "<style scoped>\n",
       "    .dataframe tbody tr th:only-of-type {\n",
       "        vertical-align: middle;\n",
       "    }\n",
       "\n",
       "    .dataframe tbody tr th {\n",
       "        vertical-align: top;\n",
       "    }\n",
       "\n",
       "    .dataframe thead th {\n",
       "        text-align: right;\n",
       "    }\n",
       "</style>\n",
       "<table border=\"1\" class=\"dataframe\">\n",
       "  <thead>\n",
       "    <tr style=\"text-align: right;\">\n",
       "      <th></th>\n",
       "      <th>PassengerId</th>\n",
       "      <th>Survived</th>\n",
       "      <th>Pclass</th>\n",
       "      <th>Name</th>\n",
       "      <th>Sex</th>\n",
       "      <th>Age</th>\n",
       "      <th>SibSp</th>\n",
       "      <th>Parch</th>\n",
       "      <th>Ticket</th>\n",
       "      <th>Fare</th>\n",
       "      <th>Cabin</th>\n",
       "      <th>Embarked</th>\n",
       "    </tr>\n",
       "  </thead>\n",
       "  <tbody>\n",
       "    <tr>\n",
       "      <th>0</th>\n",
       "      <td>1</td>\n",
       "      <td>0</td>\n",
       "      <td>3</td>\n",
       "      <td>Braund, Mr. Owen Harris</td>\n",
       "      <td>male</td>\n",
       "      <td>22.0</td>\n",
       "      <td>1</td>\n",
       "      <td>0</td>\n",
       "      <td>A/5 21171</td>\n",
       "      <td>7.2500</td>\n",
       "      <td>NaN</td>\n",
       "      <td>S</td>\n",
       "    </tr>\n",
       "    <tr>\n",
       "      <th>1</th>\n",
       "      <td>2</td>\n",
       "      <td>1</td>\n",
       "      <td>1</td>\n",
       "      <td>Cumings, Mrs. John Bradley (Florence Briggs Th...</td>\n",
       "      <td>female</td>\n",
       "      <td>38.0</td>\n",
       "      <td>1</td>\n",
       "      <td>0</td>\n",
       "      <td>PC 17599</td>\n",
       "      <td>71.2833</td>\n",
       "      <td>C85</td>\n",
       "      <td>C</td>\n",
       "    </tr>\n",
       "    <tr>\n",
       "      <th>2</th>\n",
       "      <td>3</td>\n",
       "      <td>1</td>\n",
       "      <td>3</td>\n",
       "      <td>Heikkinen, Miss. Laina</td>\n",
       "      <td>female</td>\n",
       "      <td>26.0</td>\n",
       "      <td>0</td>\n",
       "      <td>0</td>\n",
       "      <td>STON/O2. 3101282</td>\n",
       "      <td>7.9250</td>\n",
       "      <td>NaN</td>\n",
       "      <td>S</td>\n",
       "    </tr>\n",
       "    <tr>\n",
       "      <th>3</th>\n",
       "      <td>4</td>\n",
       "      <td>1</td>\n",
       "      <td>1</td>\n",
       "      <td>Futrelle, Mrs. Jacques Heath (Lily May Peel)</td>\n",
       "      <td>female</td>\n",
       "      <td>35.0</td>\n",
       "      <td>1</td>\n",
       "      <td>0</td>\n",
       "      <td>113803</td>\n",
       "      <td>53.1000</td>\n",
       "      <td>C123</td>\n",
       "      <td>S</td>\n",
       "    </tr>\n",
       "    <tr>\n",
       "      <th>4</th>\n",
       "      <td>5</td>\n",
       "      <td>0</td>\n",
       "      <td>3</td>\n",
       "      <td>Allen, Mr. William Henry</td>\n",
       "      <td>male</td>\n",
       "      <td>35.0</td>\n",
       "      <td>0</td>\n",
       "      <td>0</td>\n",
       "      <td>373450</td>\n",
       "      <td>8.0500</td>\n",
       "      <td>NaN</td>\n",
       "      <td>S</td>\n",
       "    </tr>\n",
       "  </tbody>\n",
       "</table>\n",
       "</div>"
      ],
      "text/plain": [
       "   PassengerId  Survived  Pclass  \\\n",
       "0            1         0       3   \n",
       "1            2         1       1   \n",
       "2            3         1       3   \n",
       "3            4         1       1   \n",
       "4            5         0       3   \n",
       "\n",
       "                                                Name     Sex   Age  SibSp  \\\n",
       "0                            Braund, Mr. Owen Harris    male  22.0      1   \n",
       "1  Cumings, Mrs. John Bradley (Florence Briggs Th...  female  38.0      1   \n",
       "2                             Heikkinen, Miss. Laina  female  26.0      0   \n",
       "3       Futrelle, Mrs. Jacques Heath (Lily May Peel)  female  35.0      1   \n",
       "4                           Allen, Mr. William Henry    male  35.0      0   \n",
       "\n",
       "   Parch            Ticket     Fare Cabin Embarked  \n",
       "0      0         A/5 21171   7.2500   NaN        S  \n",
       "1      0          PC 17599  71.2833   C85        C  \n",
       "2      0  STON/O2. 3101282   7.9250   NaN        S  \n",
       "3      0            113803  53.1000  C123        S  \n",
       "4      0            373450   8.0500   NaN        S  "
      ]
     },
     "execution_count": 4,
     "metadata": {},
     "output_type": "execute_result"
    }
   ],
   "source": [
    "train.head()"
   ]
  },
  {
   "cell_type": "code",
   "execution_count": 5,
   "id": "1fc1aa07",
   "metadata": {
    "ExecuteTime": {
     "end_time": "2023-03-12T20:46:34.641180Z",
     "start_time": "2023-03-12T20:46:34.629183Z"
    },
    "run_control": {
     "marked": false
    }
   },
   "outputs": [
    {
     "data": {
      "text/plain": [
       "B96 B98        4\n",
       "G6             4\n",
       "C23 C25 C27    4\n",
       "C22 C26        3\n",
       "F33            3\n",
       "              ..\n",
       "E34            1\n",
       "C7             1\n",
       "C54            1\n",
       "E36            1\n",
       "C148           1\n",
       "Name: Cabin, Length: 147, dtype: int64"
      ]
     },
     "execution_count": 5,
     "metadata": {},
     "output_type": "execute_result"
    }
   ],
   "source": [
    "train['Cabin'].value_counts()"
   ]
  },
  {
   "cell_type": "markdown",
   "id": "00901b05",
   "metadata": {},
   "source": [
    "## Data Dimentions"
   ]
  },
  {
   "cell_type": "code",
   "execution_count": 6,
   "id": "ac6a726d",
   "metadata": {
    "ExecuteTime": {
     "end_time": "2023-03-12T20:46:34.657107Z",
     "start_time": "2023-03-12T20:46:34.644259Z"
    },
    "run_control": {
     "marked": false
    }
   },
   "outputs": [
    {
     "name": "stdout",
     "output_type": "stream",
     "text": [
      "Dimensiones: [Train: (891, 12), Test: (418, 11), Submission: (418, 2)]\n"
     ]
    }
   ],
   "source": [
    "print(f\"Dimensiones: [Train: {train.shape}, Test: {test.shape}, Submission: {sub.shape}]\")"
   ]
  },
  {
   "cell_type": "markdown",
   "id": "615a2305",
   "metadata": {},
   "source": [
    "## Data Information"
   ]
  },
  {
   "cell_type": "markdown",
   "id": "6b13b61f",
   "metadata": {},
   "source": [
    "## train.info()"
   ]
  },
  {
   "cell_type": "code",
   "execution_count": 7,
   "id": "8a67c729",
   "metadata": {
    "ExecuteTime": {
     "end_time": "2023-03-12T20:46:34.689122Z",
     "start_time": "2023-03-12T20:46:34.660441Z"
    },
    "run_control": {
     "marked": false
    }
   },
   "outputs": [
    {
     "name": "stdout",
     "output_type": "stream",
     "text": [
      "<class 'pandas.core.frame.DataFrame'>\n",
      "RangeIndex: 891 entries, 0 to 890\n",
      "Data columns (total 12 columns):\n",
      " #   Column       Non-Null Count  Dtype  \n",
      "---  ------       --------------  -----  \n",
      " 0   PassengerId  891 non-null    int64  \n",
      " 1   Survived     891 non-null    int64  \n",
      " 2   Pclass       891 non-null    int64  \n",
      " 3   Name         891 non-null    object \n",
      " 4   Sex          891 non-null    object \n",
      " 5   Age          714 non-null    float64\n",
      " 6   SibSp        891 non-null    int64  \n",
      " 7   Parch        891 non-null    int64  \n",
      " 8   Ticket       891 non-null    object \n",
      " 9   Fare         891 non-null    float64\n",
      " 10  Cabin        204 non-null    object \n",
      " 11  Embarked     889 non-null    object \n",
      "dtypes: float64(2), int64(5), object(5)\n",
      "memory usage: 83.7+ KB\n"
     ]
    }
   ],
   "source": [
    "train.info()"
   ]
  },
  {
   "cell_type": "markdown",
   "id": "ef5bfda8",
   "metadata": {},
   "source": [
    "Las variables edad \"Age\" y tarifa \"Fare\" tiene valores faltantes, los cuales más adelante se tratará "
   ]
  },
  {
   "cell_type": "code",
   "execution_count": 8,
   "id": "b921847a",
   "metadata": {
    "ExecuteTime": {
     "end_time": "2023-03-12T20:46:34.720585Z",
     "start_time": "2023-03-12T20:46:34.691116Z"
    },
    "run_control": {
     "marked": false
    }
   },
   "outputs": [
    {
     "name": "stdout",
     "output_type": "stream",
     "text": [
      "<class 'pandas.core.frame.DataFrame'>\n",
      "RangeIndex: 418 entries, 0 to 417\n",
      "Data columns (total 11 columns):\n",
      " #   Column       Non-Null Count  Dtype  \n",
      "---  ------       --------------  -----  \n",
      " 0   PassengerId  418 non-null    int64  \n",
      " 1   Pclass       418 non-null    int64  \n",
      " 2   Name         418 non-null    object \n",
      " 3   Sex          418 non-null    object \n",
      " 4   Age          332 non-null    float64\n",
      " 5   SibSp        418 non-null    int64  \n",
      " 6   Parch        418 non-null    int64  \n",
      " 7   Ticket       418 non-null    object \n",
      " 8   Fare         417 non-null    float64\n",
      " 9   Cabin        91 non-null     object \n",
      " 10  Embarked     418 non-null    object \n",
      "dtypes: float64(2), int64(4), object(5)\n",
      "memory usage: 36.0+ KB\n"
     ]
    }
   ],
   "source": [
    "test.info()"
   ]
  },
  {
   "cell_type": "markdown",
   "id": "47bd8341",
   "metadata": {},
   "source": [
    "Notice:\n",
    "- We can see that there is some missing values in the data. So we have to handle it later."
   ]
  },
  {
   "cell_type": "code",
   "execution_count": 9,
   "id": "b2b70450",
   "metadata": {
    "ExecuteTime": {
     "end_time": "2023-03-12T20:46:34.766805Z",
     "start_time": "2023-03-12T20:46:34.723648Z"
    },
    "run_control": {
     "marked": false
    }
   },
   "outputs": [
    {
     "data": {
      "text/html": [
       "<div>\n",
       "<style scoped>\n",
       "    .dataframe tbody tr th:only-of-type {\n",
       "        vertical-align: middle;\n",
       "    }\n",
       "\n",
       "    .dataframe tbody tr th {\n",
       "        vertical-align: top;\n",
       "    }\n",
       "\n",
       "    .dataframe thead th {\n",
       "        text-align: right;\n",
       "    }\n",
       "</style>\n",
       "<table border=\"1\" class=\"dataframe\">\n",
       "  <thead>\n",
       "    <tr style=\"text-align: right;\">\n",
       "      <th></th>\n",
       "      <th>PassengerId</th>\n",
       "      <th>Survived</th>\n",
       "      <th>Pclass</th>\n",
       "      <th>Age</th>\n",
       "      <th>SibSp</th>\n",
       "      <th>Parch</th>\n",
       "      <th>Fare</th>\n",
       "    </tr>\n",
       "  </thead>\n",
       "  <tbody>\n",
       "    <tr>\n",
       "      <th>count</th>\n",
       "      <td>891.000000</td>\n",
       "      <td>891.000000</td>\n",
       "      <td>891.000000</td>\n",
       "      <td>714.000000</td>\n",
       "      <td>891.000000</td>\n",
       "      <td>891.000000</td>\n",
       "      <td>891.000000</td>\n",
       "    </tr>\n",
       "    <tr>\n",
       "      <th>mean</th>\n",
       "      <td>446.000000</td>\n",
       "      <td>0.383838</td>\n",
       "      <td>2.308642</td>\n",
       "      <td>29.699118</td>\n",
       "      <td>0.523008</td>\n",
       "      <td>0.381594</td>\n",
       "      <td>32.204208</td>\n",
       "    </tr>\n",
       "    <tr>\n",
       "      <th>std</th>\n",
       "      <td>257.353842</td>\n",
       "      <td>0.486592</td>\n",
       "      <td>0.836071</td>\n",
       "      <td>14.526497</td>\n",
       "      <td>1.102743</td>\n",
       "      <td>0.806057</td>\n",
       "      <td>49.693429</td>\n",
       "    </tr>\n",
       "    <tr>\n",
       "      <th>min</th>\n",
       "      <td>1.000000</td>\n",
       "      <td>0.000000</td>\n",
       "      <td>1.000000</td>\n",
       "      <td>0.420000</td>\n",
       "      <td>0.000000</td>\n",
       "      <td>0.000000</td>\n",
       "      <td>0.000000</td>\n",
       "    </tr>\n",
       "    <tr>\n",
       "      <th>25%</th>\n",
       "      <td>223.500000</td>\n",
       "      <td>0.000000</td>\n",
       "      <td>2.000000</td>\n",
       "      <td>20.125000</td>\n",
       "      <td>0.000000</td>\n",
       "      <td>0.000000</td>\n",
       "      <td>7.910400</td>\n",
       "    </tr>\n",
       "    <tr>\n",
       "      <th>50%</th>\n",
       "      <td>446.000000</td>\n",
       "      <td>0.000000</td>\n",
       "      <td>3.000000</td>\n",
       "      <td>28.000000</td>\n",
       "      <td>0.000000</td>\n",
       "      <td>0.000000</td>\n",
       "      <td>14.454200</td>\n",
       "    </tr>\n",
       "    <tr>\n",
       "      <th>75%</th>\n",
       "      <td>668.500000</td>\n",
       "      <td>1.000000</td>\n",
       "      <td>3.000000</td>\n",
       "      <td>38.000000</td>\n",
       "      <td>1.000000</td>\n",
       "      <td>0.000000</td>\n",
       "      <td>31.000000</td>\n",
       "    </tr>\n",
       "    <tr>\n",
       "      <th>max</th>\n",
       "      <td>891.000000</td>\n",
       "      <td>1.000000</td>\n",
       "      <td>3.000000</td>\n",
       "      <td>80.000000</td>\n",
       "      <td>8.000000</td>\n",
       "      <td>6.000000</td>\n",
       "      <td>512.329200</td>\n",
       "    </tr>\n",
       "  </tbody>\n",
       "</table>\n",
       "</div>"
      ],
      "text/plain": [
       "       PassengerId    Survived      Pclass         Age       SibSp  \\\n",
       "count   891.000000  891.000000  891.000000  714.000000  891.000000   \n",
       "mean    446.000000    0.383838    2.308642   29.699118    0.523008   \n",
       "std     257.353842    0.486592    0.836071   14.526497    1.102743   \n",
       "min       1.000000    0.000000    1.000000    0.420000    0.000000   \n",
       "25%     223.500000    0.000000    2.000000   20.125000    0.000000   \n",
       "50%     446.000000    0.000000    3.000000   28.000000    0.000000   \n",
       "75%     668.500000    1.000000    3.000000   38.000000    1.000000   \n",
       "max     891.000000    1.000000    3.000000   80.000000    8.000000   \n",
       "\n",
       "            Parch        Fare  \n",
       "count  891.000000  891.000000  \n",
       "mean     0.381594   32.204208  \n",
       "std      0.806057   49.693429  \n",
       "min      0.000000    0.000000  \n",
       "25%      0.000000    7.910400  \n",
       "50%      0.000000   14.454200  \n",
       "75%      0.000000   31.000000  \n",
       "max      6.000000  512.329200  "
      ]
     },
     "execution_count": 9,
     "metadata": {},
     "output_type": "execute_result"
    }
   ],
   "source": [
    "train.describe()"
   ]
  },
  {
   "cell_type": "markdown",
   "id": "135fb785",
   "metadata": {},
   "source": [
    "# Ploting libraries"
   ]
  },
  {
   "cell_type": "code",
   "execution_count": 10,
   "id": "3b58bd38",
   "metadata": {
    "ExecuteTime": {
     "end_time": "2023-03-12T20:46:37.883314Z",
     "start_time": "2023-03-12T20:46:34.768752Z"
    },
    "run_control": {
     "marked": false
    }
   },
   "outputs": [],
   "source": [
    "from matplotlib import pyplot as plt\n",
    "import seaborn as sns"
   ]
  },
  {
   "cell_type": "markdown",
   "id": "af2bfc20",
   "metadata": {},
   "source": [
    "# Male vs Female in dataset"
   ]
  },
  {
   "cell_type": "code",
   "execution_count": 11,
   "id": "1b32a6dd",
   "metadata": {
    "ExecuteTime": {
     "end_time": "2023-03-12T20:46:38.072934Z",
     "start_time": "2023-03-12T20:46:37.889298Z"
    },
    "run_control": {
     "marked": false
    }
   },
   "outputs": [
    {
     "data": {
      "image/png": "[encoded data removed]",
      "text/plain": [
       "<Figure size 600x600 with 1 Axes>"
      ]
     },
     "metadata": {},
     "output_type": "display_data"
    }
   ],
   "source": [
    "# Crear las variables contenedoreas para poder colocarles % y conteo a las graficcas \n",
    "masculino = train['Sex'].value_counts()[0]\n",
    "femenino= train['Sex'].value_counts()[1]\n",
    "\n",
    "# Crear grafica \n",
    "plt.figure(figsize=(6, 6))\n",
    "plt.pie([masculino, femenino],labels=['Masculino: '+str(masculino), 'Femenino: '+str(femenino)], autopct=\"%.2f%%\")\n",
    "plt.title(\"PROPORCIÓN DEL GENERO MASCULINO Y FEMENINO\")\n",
    "plt.legend()\n",
    "plt.show()"
   ]
  },
  {
   "cell_type": "markdown",
   "id": "ca855588",
   "metadata": {},
   "source": [
    "Nota:\n",
    "- La proporción del genero masculino es mayor al femenino, lo cual es esperado, teniendo en cuenta que se requerian muchs marineros y rabajadores en el barco "
   ]
  },
  {
   "cell_type": "markdown",
   "id": "4b1d9326",
   "metadata": {
    "ExecuteTime": {
     "end_time": "2023-02-26T17:16:31.871511Z",
     "start_time": "2023-02-26T17:16:31.865527Z"
    }
   },
   "source": [
    "# Validación de datos"
   ]
  },
  {
   "cell_type": "markdown",
   "id": "ca6b8cc6",
   "metadata": {},
   "source": [
    "## Datos faltantes "
   ]
  },
  {
   "cell_type": "code",
   "execution_count": 12,
   "id": "a3d70a1c",
   "metadata": {
    "ExecuteTime": {
     "end_time": "2023-03-12T20:46:38.467486Z",
     "start_time": "2023-03-12T20:46:38.075927Z"
    },
    "run_control": {
     "marked": false
    }
   },
   "outputs": [
    {
     "data": {
      "image/png": "[encoded data removed]",
      "text/plain": [
       "<Figure size 1084.88x500 with 1 Axes>"
      ]
     },
     "metadata": {},
     "output_type": "display_data"
    }
   ],
   "source": [
    "# Explrar graficamente el data frame \n",
    "(\n",
    "    train\n",
    "    .isnull()\n",
    "    .melt()\n",
    "    .pipe(\n",
    "        lambda df:(\n",
    "            sns.displot(\n",
    "                data= df,\n",
    "                y='variable',\n",
    "                hue='value',\n",
    "                multiple=\"fill\",\n",
    "                aspect= 2\n",
    "            )\n",
    "        )\n",
    "\n",
    "    )\n",
    ")\n",
    "plt.show()"
   ]
  },
  {
   "cell_type": "markdown",
   "id": "c4f8ae4a",
   "metadata": {
    "ExecuteTime": {
     "end_time": "2023-03-05T16:50:59.880024Z",
     "start_time": "2023-03-05T16:50:59.867982Z"
    },
    "run_control": {
     "marked": true
    }
   },
   "source": [
    "Notice:\n",
    "* Alrededr de un 20% de las edades de los pasajeros se han perdido\n",
    "* Casi un 80% de los pasajeros no tienen registro en cuanto a su cabina designada "
   ]
  },
  {
   "cell_type": "markdown",
   "id": "b7975442",
   "metadata": {
    "ExecuteTime": {
     "end_time": "2023-02-26T18:06:56.284209Z",
     "start_time": "2023-02-26T18:06:56.258236Z"
    }
   },
   "source": [
    "## distrubucion"
   ]
  },
  {
   "cell_type": "code",
   "execution_count": 13,
   "id": "64cb746b",
   "metadata": {
    "ExecuteTime": {
     "end_time": "2023-03-12T20:46:40.584874Z",
     "start_time": "2023-03-12T20:46:38.470900Z"
    },
    "run_control": {
     "marked": false
    }
   },
   "outputs": [
    {
     "data": {
      "image/png": "[encoded data removed]",
      "text/plain": [
       "<Figure size 800x1200 with 8 Axes>"
      ]
     },
     "metadata": {},
     "output_type": "display_data"
    }
   ],
   "source": [
    "fig, axs = plt.subplots(4, 2, figsize = (8,12), constrained_layout=True) \n",
    "index = []\n",
    "cols = ['Survived','Pclass','Age', 'SibSp','Parch','Fare', 'Embarked'] \n",
    "for i in range(4):\n",
    "    for j in range(2):\n",
    "        index.append(axs[i][j])\n",
    "for i in range(len(cols)):\n",
    "    if i == 1 or i == 2 or i == 3:\n",
    "        sns.histplot(\n",
    "            data=train, x=cols[i], kde=True, ax=index[i], hue=train.columns[1]\n",
    "        ).set(title=cols[i], xlabel=None, ylabel=None)\n",
    "    else:\n",
    "        sns.histplot(\n",
    "            data=train, x=cols[i], kde=False, ax=index[i], hue=train.columns[1]\n",
    "        ).set(title=cols[i], xlabel=None, ylabel=None)\n",
    "\n",
    "fig.supxlabel(\"Value\").set_fontsize(14)\n",
    "fig.supylabel(\"Count\").set_fontsize(14)\n",
    "fig.suptitle(\"Distribution of data via Histograms\").set_fontsize(16)"
   ]
  },
  {
   "cell_type": "markdown",
   "id": "19b699db",
   "metadata": {
    "ExecuteTime": {
     "end_time": "2023-02-26T21:59:52.224326Z",
     "start_time": "2023-02-26T21:59:52.188150Z"
    }
   },
   "source": [
    "Notas:\n",
    "* La mayoría de los pasajeros de set de entrenamiento sobrevivieron\n",
    "* La clase 3 es la que posee menor probabilidad de supervivencia\n",
    "* La edad tiene un distribución normal normal\n",
    "* Los pasajeros que abordaron el titanic en Southampton tienen tienden a sobrevivir con menor freciencia, respecto al resto de puertos"
   ]
  },
  {
   "cell_type": "markdown",
   "id": "0b7c1c59",
   "metadata": {},
   "source": [
    "# Imputación de datos "
   ]
  },
  {
   "cell_type": "markdown",
   "id": "b407f0d9",
   "metadata": {
    "ExecuteTime": {
     "end_time": "2023-03-05T17:22:23.758202Z",
     "start_time": "2023-03-05T17:22:23.743241Z"
    }
   },
   "source": [
    "## imputación basica de datos"
   ]
  },
  {
   "cell_type": "code",
   "execution_count": 3,
   "id": "5bd2c55e",
   "metadata": {
    "ExecuteTime": {
     "end_time": "2023-03-16T11:37:05.387316Z",
     "start_time": "2023-03-16T11:37:05.377331Z"
    }
   },
   "outputs": [],
   "source": [
    "# se hace una copia de la data train para manipularla mas adelante\n",
    "from copy import deepcopy\n",
    "\n",
    "data = deepcopy(train)"
   ]
  },
  {
   "cell_type": "code",
   "execution_count": 5,
   "id": "894deb29",
   "metadata": {
    "ExecuteTime": {
     "end_time": "2023-03-16T11:37:36.768226Z",
     "start_time": "2023-03-16T11:37:36.752217Z"
    },
    "run_control": {
     "marked": false
    }
   },
   "outputs": [],
   "source": [
    "def inputar_data(data):\n",
    "    \"\"\"\n",
    "    replaza los datos faltantes de edad por la media\n",
    "    replaza los datos faltantes en Fare \"tarifa\"\n",
    "    \"\"\"\n",
    "    cols = [\"Age\", \"Fare\"]\n",
    "    for col in cols:\n",
    "        data[col].fillna(data[col].mean(), inplace = True)\n",
    "    \"\"\"\n",
    "    replaza los datos faltantes en Embarque\n",
    "    \"\"\"\n",
    "    data['Embarked'].fillna(data['Embarked'].mode()[0], inplace = True)\n",
    "    \n",
    "    return data"
   ]
  },
  {
   "cell_type": "code",
   "execution_count": 6,
   "id": "5683e4c4",
   "metadata": {
    "ExecuteTime": {
     "end_time": "2023-03-16T11:37:37.372686Z",
     "start_time": "2023-03-16T11:37:37.331546Z"
    }
   },
   "outputs": [
    {
     "data": {
      "text/html": [
       "<div>\n",
       "<style scoped>\n",
       "    .dataframe tbody tr th:only-of-type {\n",
       "        vertical-align: middle;\n",
       "    }\n",
       "\n",
       "    .dataframe tbody tr th {\n",
       "        vertical-align: top;\n",
       "    }\n",
       "\n",
       "    .dataframe thead th {\n",
       "        text-align: right;\n",
       "    }\n",
       "</style>\n",
       "<table border=\"1\" class=\"dataframe\">\n",
       "  <thead>\n",
       "    <tr style=\"text-align: right;\">\n",
       "      <th></th>\n",
       "      <th>PassengerId</th>\n",
       "      <th>Pclass</th>\n",
       "      <th>Name</th>\n",
       "      <th>Sex</th>\n",
       "      <th>Age</th>\n",
       "      <th>SibSp</th>\n",
       "      <th>Parch</th>\n",
       "      <th>Ticket</th>\n",
       "      <th>Fare</th>\n",
       "      <th>Cabin</th>\n",
       "      <th>Embarked</th>\n",
       "    </tr>\n",
       "  </thead>\n",
       "  <tbody>\n",
       "    <tr>\n",
       "      <th>0</th>\n",
       "      <td>892</td>\n",
       "      <td>3</td>\n",
       "      <td>Kelly, Mr. James</td>\n",
       "      <td>male</td>\n",
       "      <td>34.50000</td>\n",
       "      <td>0</td>\n",
       "      <td>0</td>\n",
       "      <td>330911</td>\n",
       "      <td>7.8292</td>\n",
       "      <td>NaN</td>\n",
       "      <td>Q</td>\n",
       "    </tr>\n",
       "    <tr>\n",
       "      <th>1</th>\n",
       "      <td>893</td>\n",
       "      <td>3</td>\n",
       "      <td>Wilkes, Mrs. James (Ellen Needs)</td>\n",
       "      <td>female</td>\n",
       "      <td>47.00000</td>\n",
       "      <td>1</td>\n",
       "      <td>0</td>\n",
       "      <td>363272</td>\n",
       "      <td>7.0000</td>\n",
       "      <td>NaN</td>\n",
       "      <td>S</td>\n",
       "    </tr>\n",
       "    <tr>\n",
       "      <th>2</th>\n",
       "      <td>894</td>\n",
       "      <td>2</td>\n",
       "      <td>Myles, Mr. Thomas Francis</td>\n",
       "      <td>male</td>\n",
       "      <td>62.00000</td>\n",
       "      <td>0</td>\n",
       "      <td>0</td>\n",
       "      <td>240276</td>\n",
       "      <td>9.6875</td>\n",
       "      <td>NaN</td>\n",
       "      <td>Q</td>\n",
       "    </tr>\n",
       "    <tr>\n",
       "      <th>3</th>\n",
       "      <td>895</td>\n",
       "      <td>3</td>\n",
       "      <td>Wirz, Mr. Albert</td>\n",
       "      <td>male</td>\n",
       "      <td>27.00000</td>\n",
       "      <td>0</td>\n",
       "      <td>0</td>\n",
       "      <td>315154</td>\n",
       "      <td>8.6625</td>\n",
       "      <td>NaN</td>\n",
       "      <td>S</td>\n",
       "    </tr>\n",
       "    <tr>\n",
       "      <th>4</th>\n",
       "      <td>896</td>\n",
       "      <td>3</td>\n",
       "      <td>Hirvonen, Mrs. Alexander (Helga E Lindqvist)</td>\n",
       "      <td>female</td>\n",
       "      <td>22.00000</td>\n",
       "      <td>1</td>\n",
       "      <td>1</td>\n",
       "      <td>3101298</td>\n",
       "      <td>12.2875</td>\n",
       "      <td>NaN</td>\n",
       "      <td>S</td>\n",
       "    </tr>\n",
       "    <tr>\n",
       "      <th>...</th>\n",
       "      <td>...</td>\n",
       "      <td>...</td>\n",
       "      <td>...</td>\n",
       "      <td>...</td>\n",
       "      <td>...</td>\n",
       "      <td>...</td>\n",
       "      <td>...</td>\n",
       "      <td>...</td>\n",
       "      <td>...</td>\n",
       "      <td>...</td>\n",
       "      <td>...</td>\n",
       "    </tr>\n",
       "    <tr>\n",
       "      <th>413</th>\n",
       "      <td>1305</td>\n",
       "      <td>3</td>\n",
       "      <td>Spector, Mr. Woolf</td>\n",
       "      <td>male</td>\n",
       "      <td>30.27259</td>\n",
       "      <td>0</td>\n",
       "      <td>0</td>\n",
       "      <td>A.5. 3236</td>\n",
       "      <td>8.0500</td>\n",
       "      <td>NaN</td>\n",
       "      <td>S</td>\n",
       "    </tr>\n",
       "    <tr>\n",
       "      <th>414</th>\n",
       "      <td>1306</td>\n",
       "      <td>1</td>\n",
       "      <td>Oliva y Ocana, Dona. Fermina</td>\n",
       "      <td>female</td>\n",
       "      <td>39.00000</td>\n",
       "      <td>0</td>\n",
       "      <td>0</td>\n",
       "      <td>PC 17758</td>\n",
       "      <td>108.9000</td>\n",
       "      <td>C105</td>\n",
       "      <td>C</td>\n",
       "    </tr>\n",
       "    <tr>\n",
       "      <th>415</th>\n",
       "      <td>1307</td>\n",
       "      <td>3</td>\n",
       "      <td>Saether, Mr. Simon Sivertsen</td>\n",
       "      <td>male</td>\n",
       "      <td>38.50000</td>\n",
       "      <td>0</td>\n",
       "      <td>0</td>\n",
       "      <td>SOTON/O.Q. 3101262</td>\n",
       "      <td>7.2500</td>\n",
       "      <td>NaN</td>\n",
       "      <td>S</td>\n",
       "    </tr>\n",
       "    <tr>\n",
       "      <th>416</th>\n",
       "      <td>1308</td>\n",
       "      <td>3</td>\n",
       "      <td>Ware, Mr. Frederick</td>\n",
       "      <td>male</td>\n",
       "      <td>30.27259</td>\n",
       "      <td>0</td>\n",
       "      <td>0</td>\n",
       "      <td>359309</td>\n",
       "      <td>8.0500</td>\n",
       "      <td>NaN</td>\n",
       "      <td>S</td>\n",
       "    </tr>\n",
       "    <tr>\n",
       "      <th>417</th>\n",
       "      <td>1309</td>\n",
       "      <td>3</td>\n",
       "      <td>Peter, Master. Michael J</td>\n",
       "      <td>male</td>\n",
       "      <td>30.27259</td>\n",
       "      <td>1</td>\n",
       "      <td>1</td>\n",
       "      <td>2668</td>\n",
       "      <td>22.3583</td>\n",
       "      <td>NaN</td>\n",
       "      <td>C</td>\n",
       "    </tr>\n",
       "  </tbody>\n",
       "</table>\n",
       "<p>418 rows × 11 columns</p>\n",
       "</div>"
      ],
      "text/plain": [
       "     PassengerId  Pclass                                          Name  \\\n",
       "0            892       3                              Kelly, Mr. James   \n",
       "1            893       3              Wilkes, Mrs. James (Ellen Needs)   \n",
       "2            894       2                     Myles, Mr. Thomas Francis   \n",
       "3            895       3                              Wirz, Mr. Albert   \n",
       "4            896       3  Hirvonen, Mrs. Alexander (Helga E Lindqvist)   \n",
       "..           ...     ...                                           ...   \n",
       "413         1305       3                            Spector, Mr. Woolf   \n",
       "414         1306       1                  Oliva y Ocana, Dona. Fermina   \n",
       "415         1307       3                  Saether, Mr. Simon Sivertsen   \n",
       "416         1308       3                           Ware, Mr. Frederick   \n",
       "417         1309       3                      Peter, Master. Michael J   \n",
       "\n",
       "        Sex       Age  SibSp  Parch              Ticket      Fare Cabin  \\\n",
       "0      male  34.50000      0      0              330911    7.8292   NaN   \n",
       "1    female  47.00000      1      0              363272    7.0000   NaN   \n",
       "2      male  62.00000      0      0              240276    9.6875   NaN   \n",
       "3      male  27.00000      0      0              315154    8.6625   NaN   \n",
       "4    female  22.00000      1      1             3101298   12.2875   NaN   \n",
       "..      ...       ...    ...    ...                 ...       ...   ...   \n",
       "413    male  30.27259      0      0           A.5. 3236    8.0500   NaN   \n",
       "414  female  39.00000      0      0            PC 17758  108.9000  C105   \n",
       "415    male  38.50000      0      0  SOTON/O.Q. 3101262    7.2500   NaN   \n",
       "416    male  30.27259      0      0              359309    8.0500   NaN   \n",
       "417    male  30.27259      1      1                2668   22.3583   NaN   \n",
       "\n",
       "    Embarked  \n",
       "0          Q  \n",
       "1          S  \n",
       "2          Q  \n",
       "3          S  \n",
       "4          S  \n",
       "..       ...  \n",
       "413        S  \n",
       "414        C  \n",
       "415        S  \n",
       "416        S  \n",
       "417        C  \n",
       "\n",
       "[418 rows x 11 columns]"
      ]
     },
     "execution_count": 6,
     "metadata": {},
     "output_type": "execute_result"
    }
   ],
   "source": [
    "# Se aplica la funcion a la data trein y test a fin de transformar la data homogéneamente \n",
    "inputar_data(data)\n",
    "inputar_data(test)"
   ]
  },
  {
   "cell_type": "code",
   "execution_count": 16,
   "id": "800abbdc",
   "metadata": {
    "ExecuteTime": {
     "end_time": "2023-03-12T20:46:40.647099Z",
     "start_time": "2023-03-12T20:46:40.633043Z"
    }
   },
   "outputs": [
    {
     "name": "stdout",
     "output_type": "stream",
     "text": [
      "<class 'pandas.core.frame.DataFrame'>\n",
      "RangeIndex: 891 entries, 0 to 890\n",
      "Data columns (total 12 columns):\n",
      " #   Column       Non-Null Count  Dtype  \n",
      "---  ------       --------------  -----  \n",
      " 0   PassengerId  891 non-null    int64  \n",
      " 1   Survived     891 non-null    int64  \n",
      " 2   Pclass       891 non-null    int64  \n",
      " 3   Name         891 non-null    object \n",
      " 4   Sex          891 non-null    object \n",
      " 5   Age          891 non-null    float64\n",
      " 6   SibSp        891 non-null    int64  \n",
      " 7   Parch        891 non-null    int64  \n",
      " 8   Ticket       891 non-null    object \n",
      " 9   Fare         891 non-null    float64\n",
      " 10  Cabin        204 non-null    object \n",
      " 11  Embarked     891 non-null    object \n",
      "dtypes: float64(2), int64(5), object(5)\n",
      "memory usage: 83.7+ KB\n"
     ]
    }
   ],
   "source": [
    "train.info()"
   ]
  },
  {
   "cell_type": "markdown",
   "id": "e36562ac",
   "metadata": {},
   "source": [
    "Como se puede apreciar ya no hay existen datos faltantes en las variables age y Embarked "
   ]
  },
  {
   "cell_type": "code",
   "execution_count": 17,
   "id": "ba479e82",
   "metadata": {
    "ExecuteTime": {
     "end_time": "2023-03-12T20:46:40.678335Z",
     "start_time": "2023-03-12T20:46:40.651088Z"
    }
   },
   "outputs": [
    {
     "name": "stdout",
     "output_type": "stream",
     "text": [
      "<class 'pandas.core.frame.DataFrame'>\n",
      "RangeIndex: 891 entries, 0 to 890\n",
      "Data columns (total 12 columns):\n",
      " #   Column       Non-Null Count  Dtype  \n",
      "---  ------       --------------  -----  \n",
      " 0   PassengerId  891 non-null    int64  \n",
      " 1   Survived     891 non-null    int64  \n",
      " 2   Pclass       891 non-null    int64  \n",
      " 3   Name         891 non-null    object \n",
      " 4   Sex          891 non-null    object \n",
      " 5   Age          891 non-null    float64\n",
      " 6   SibSp        891 non-null    int64  \n",
      " 7   Parch        891 non-null    int64  \n",
      " 8   Ticket       891 non-null    object \n",
      " 9   Fare         891 non-null    float64\n",
      " 10  Cabin        204 non-null    object \n",
      " 11  Embarked     891 non-null    object \n",
      "dtypes: float64(2), int64(5), object(5)\n",
      "memory usage: 83.7+ KB\n"
     ]
    }
   ],
   "source": [
    "train.info()"
   ]
  },
  {
   "cell_type": "markdown",
   "id": "ae410572",
   "metadata": {},
   "source": [
    "Como se puede apreciar, la imputación de data fue exitosa en cada set, dando la oportunidad de imputar los datos de forma sistemática, evitando posibles errores, al utilizar un método homogéneo. "
   ]
  },
  {
   "cell_type": "markdown",
   "id": "e10274ae",
   "metadata": {},
   "source": [
    "# Transformación de los datos utilizando funciones avanzadas"
   ]
  },
  {
   "cell_type": "code",
   "execution_count": 18,
   "id": "ada5bf15",
   "metadata": {
    "ExecuteTime": {
     "end_time": "2023-03-12T20:46:40.708672Z",
     "start_time": "2023-03-12T20:46:40.682343Z"
    }
   },
   "outputs": [
    {
     "data": {
      "text/html": [
       "<div>\n",
       "<style scoped>\n",
       "    .dataframe tbody tr th:only-of-type {\n",
       "        vertical-align: middle;\n",
       "    }\n",
       "\n",
       "    .dataframe tbody tr th {\n",
       "        vertical-align: top;\n",
       "    }\n",
       "\n",
       "    .dataframe thead th {\n",
       "        text-align: right;\n",
       "    }\n",
       "</style>\n",
       "<table border=\"1\" class=\"dataframe\">\n",
       "  <thead>\n",
       "    <tr style=\"text-align: right;\">\n",
       "      <th></th>\n",
       "      <th>PassengerId</th>\n",
       "      <th>Survived</th>\n",
       "      <th>Pclass</th>\n",
       "      <th>Name</th>\n",
       "      <th>Sex</th>\n",
       "      <th>Age</th>\n",
       "      <th>SibSp</th>\n",
       "      <th>Parch</th>\n",
       "      <th>Ticket</th>\n",
       "      <th>Fare</th>\n",
       "      <th>Cabin</th>\n",
       "      <th>Embarked</th>\n",
       "    </tr>\n",
       "  </thead>\n",
       "  <tbody>\n",
       "    <tr>\n",
       "      <th>0</th>\n",
       "      <td>1</td>\n",
       "      <td>0</td>\n",
       "      <td>3</td>\n",
       "      <td>Braund, Mr. Owen Harris</td>\n",
       "      <td>male</td>\n",
       "      <td>22.0</td>\n",
       "      <td>1</td>\n",
       "      <td>0</td>\n",
       "      <td>A/5 21171</td>\n",
       "      <td>7.2500</td>\n",
       "      <td>NaN</td>\n",
       "      <td>S</td>\n",
       "    </tr>\n",
       "    <tr>\n",
       "      <th>1</th>\n",
       "      <td>2</td>\n",
       "      <td>1</td>\n",
       "      <td>1</td>\n",
       "      <td>Cumings, Mrs. John Bradley (Florence Briggs Th...</td>\n",
       "      <td>female</td>\n",
       "      <td>38.0</td>\n",
       "      <td>1</td>\n",
       "      <td>0</td>\n",
       "      <td>PC 17599</td>\n",
       "      <td>71.2833</td>\n",
       "      <td>C85</td>\n",
       "      <td>C</td>\n",
       "    </tr>\n",
       "    <tr>\n",
       "      <th>2</th>\n",
       "      <td>3</td>\n",
       "      <td>1</td>\n",
       "      <td>3</td>\n",
       "      <td>Heikkinen, Miss. Laina</td>\n",
       "      <td>female</td>\n",
       "      <td>26.0</td>\n",
       "      <td>0</td>\n",
       "      <td>0</td>\n",
       "      <td>STON/O2. 3101282</td>\n",
       "      <td>7.9250</td>\n",
       "      <td>NaN</td>\n",
       "      <td>S</td>\n",
       "    </tr>\n",
       "    <tr>\n",
       "      <th>3</th>\n",
       "      <td>4</td>\n",
       "      <td>1</td>\n",
       "      <td>1</td>\n",
       "      <td>Futrelle, Mrs. Jacques Heath (Lily May Peel)</td>\n",
       "      <td>female</td>\n",
       "      <td>35.0</td>\n",
       "      <td>1</td>\n",
       "      <td>0</td>\n",
       "      <td>113803</td>\n",
       "      <td>53.1000</td>\n",
       "      <td>C123</td>\n",
       "      <td>S</td>\n",
       "    </tr>\n",
       "    <tr>\n",
       "      <th>4</th>\n",
       "      <td>5</td>\n",
       "      <td>0</td>\n",
       "      <td>3</td>\n",
       "      <td>Allen, Mr. William Henry</td>\n",
       "      <td>male</td>\n",
       "      <td>35.0</td>\n",
       "      <td>0</td>\n",
       "      <td>0</td>\n",
       "      <td>373450</td>\n",
       "      <td>8.0500</td>\n",
       "      <td>NaN</td>\n",
       "      <td>S</td>\n",
       "    </tr>\n",
       "  </tbody>\n",
       "</table>\n",
       "</div>"
      ],
      "text/plain": [
       "   PassengerId  Survived  Pclass  \\\n",
       "0            1         0       3   \n",
       "1            2         1       1   \n",
       "2            3         1       3   \n",
       "3            4         1       1   \n",
       "4            5         0       3   \n",
       "\n",
       "                                                Name     Sex   Age  SibSp  \\\n",
       "0                            Braund, Mr. Owen Harris    male  22.0      1   \n",
       "1  Cumings, Mrs. John Bradley (Florence Briggs Th...  female  38.0      1   \n",
       "2                             Heikkinen, Miss. Laina  female  26.0      0   \n",
       "3       Futrelle, Mrs. Jacques Heath (Lily May Peel)  female  35.0      1   \n",
       "4                           Allen, Mr. William Henry    male  35.0      0   \n",
       "\n",
       "   Parch            Ticket     Fare Cabin Embarked  \n",
       "0      0         A/5 21171   7.2500   NaN        S  \n",
       "1      0          PC 17599  71.2833   C85        C  \n",
       "2      0  STON/O2. 3101282   7.9250   NaN        S  \n",
       "3      0            113803  53.1000  C123        S  \n",
       "4      0            373450   8.0500   NaN        S  "
      ]
     },
     "execution_count": 18,
     "metadata": {},
     "output_type": "execute_result"
    }
   ],
   "source": [
    "train.head(5)"
   ]
  },
  {
   "cell_type": "code",
   "execution_count": 19,
   "id": "e84887e3",
   "metadata": {
    "ExecuteTime": {
     "end_time": "2023-03-12T20:46:40.724778Z",
     "start_time": "2023-03-12T20:46:40.710670Z"
    }
   },
   "outputs": [
    {
     "data": {
      "text/plain": [
       "array([0, 1, 2, 5, 3, 4, 6], dtype=int64)"
      ]
     },
     "execution_count": 19,
     "metadata": {},
     "output_type": "execute_result"
    }
   ],
   "source": [
    "train.Parch.unique()"
   ]
  },
  {
   "cell_type": "code",
   "execution_count": 20,
   "id": "b6a56932",
   "metadata": {
    "ExecuteTime": {
     "end_time": "2023-03-12T20:46:40.740014Z",
     "start_time": "2023-03-12T20:46:40.728229Z"
    }
   },
   "outputs": [],
   "source": [
    "import pandas as pd\n",
    "import numpy as np\n",
    "\n",
    "def transform_titanic_data(df):\n",
    "    # Copiar el dataframe para no modificar el original\n",
    "    transformed_df = df.copy()\n",
    "    \n",
    "    # 1. La variable de género se codifica como 1 para hombres y 0 para mujeres\n",
    "    transformed_df['Sex'] = np.where(transformed_df['Sex'] == 'male', 1, 0)\n",
    "    \n",
    "    # 2. La variable edad se estratifica en las categorías especificadas\n",
    "    transformed_df['Age'] = np.where(transformed_df['Age'] < 20, 0, \n",
    "                                     np.where(transformed_df['Age'] < 40, 1,\n",
    "                                              np.where(transformed_df['Age'] < 60, 2, 3)))\n",
    "    \n",
    "    # 3. La variable que indica si el pasajero viaja acompañado o no se crea a partir de la variable SibSp\n",
    "    transformed_df['Accompanied'] = np.where(transformed_df['SibSp'] + transformed_df['Parch'] > 0, 1, 0)\n",
    "    \n",
    "    # 4. La variable que indica si un niño viaja con su nana o no se crea a partir de la variable Parch\n",
    "    transformed_df['Nanny'] = np.where((transformed_df['Age'] < 18) & (transformed_df['Parch'] > 0), 0, 1)\n",
    "    \n",
    "    # 5. La variable que indica si el número de ticket es numérico o no se crea a partir de una expresión regular\n",
    "    transformed_df['Ticket'] = np.where(transformed_df['Ticket'].str.contains('\\d'), 1, 0)\n",
    "    \n",
    "    # Eliminar las variables originales que ya no se necesitan\n",
    "    transformed_df.drop(['SibSp', 'Parch'], axis=1, inplace=True)\n",
    "    \n",
    "    return transformed_df\n"
   ]
  },
  {
   "cell_type": "code",
   "execution_count": 21,
   "id": "ec2235e7",
   "metadata": {
    "ExecuteTime": {
     "end_time": "2023-03-12T20:46:40.756099Z",
     "start_time": "2023-03-12T20:46:40.743007Z"
    }
   },
   "outputs": [],
   "source": [
    "# transform_titanic_data(train)"
   ]
  },
  {
   "cell_type": "code",
   "execution_count": null,
   "id": "72c23ad9",
   "metadata": {},
   "outputs": [],
   "source": []
  },
  {
   "cell_type": "code",
   "execution_count": 10,
   "id": "dc25af88",
   "metadata": {
    "ExecuteTime": {
     "end_time": "2023-03-16T11:38:55.038306Z",
     "start_time": "2023-03-16T11:38:55.029291Z"
    }
   },
   "outputs": [],
   "source": [
    "import re\n",
    "\n",
    "# Carga el archivo csv en un dataframe\n",
    "df = data"
   ]
  },
  {
   "cell_type": "code",
   "execution_count": 13,
   "id": "21156bd5",
   "metadata": {
    "ExecuteTime": {
     "end_time": "2023-03-16T11:40:31.367668Z",
     "start_time": "2023-03-16T11:40:31.355734Z"
    }
   },
   "outputs": [
    {
     "name": "stdout",
     "output_type": "stream",
     "text": [
      "Mr          517\n",
      "Miss        182\n",
      "Mrs         125\n",
      "Master       40\n",
      "Dr            7\n",
      "Rev           6\n",
      "Mlle          2\n",
      "Major         2\n",
      "Col           2\n",
      "Countess      1\n",
      "Capt          1\n",
      "Ms            1\n",
      "Sir           1\n",
      "Lady          1\n",
      "Mme           1\n",
      "Don           1\n",
      "Jonkheer      1\n",
      "Name: Title, dtype: int64\n"
     ]
    }
   ],
   "source": [
    "# Extraer los títulos de la columna de nombres usando una expresión regular\n",
    "df['Title'] = df['Name'].apply(lambda x: re.search(' ([A-Za-z]+)\\.', x).group(1))\n",
    "\n",
    "# Imprimir los títulos de cada persona\n",
    "print(df['Title'].value_counts())"
   ]
  },
  {
   "cell_type": "code",
   "execution_count": 12,
   "id": "dd2c1f8d",
   "metadata": {
    "ExecuteTime": {
     "end_time": "2023-03-16T11:39:10.906076Z",
     "start_time": "2023-03-16T11:39:10.898742Z"
    }
   },
   "outputs": [],
   "source": [
    "# We will use this function to get the title of the people on the titanic like (Captain, Doctor, ...) \n",
    "def spliter(name):\n",
    "    tokens = name.split(', ')\n",
    "    ppl_kind = tokens[1].split('.')[0]\n",
    "    \n",
    "    return ppl_kind"
   ]
  },
  {
   "cell_type": "code",
   "execution_count": null,
   "id": "aaf59710",
   "metadata": {},
   "outputs": [],
   "source": []
  },
  {
   "cell_type": "code",
   "execution_count": 14,
   "id": "5d21bf56",
   "metadata": {
    "ExecuteTime": {
     "end_time": "2023-03-16T11:44:44.204535Z",
     "start_time": "2023-03-16T11:44:44.192185Z"
    }
   },
   "outputs": [
    {
     "name": "stdout",
     "output_type": "stream",
     "text": [
      "0        Mr\n",
      "1       Mrs\n",
      "2      Miss\n",
      "3       Mrs\n",
      "4        Mr\n",
      "5        Mr\n",
      "6        Mr\n",
      "7    Master\n",
      "8       Mrs\n",
      "9       Mrs\n",
      "Name: Title, dtype: object\n"
     ]
    }
   ],
   "source": [
    "import pandas as pd\n",
    "import re\n",
    "\n",
    "# cargar el conjunto de datos del Titanic\n",
    "titanic_data = data\n",
    "\n",
    "# definir la expresión regular para buscar los títulos\n",
    "title_regex = re.compile(r\"\\b([A-Za-z]+)\\.\")\n",
    "\n",
    "# crear una nueva columna para los títulos\n",
    "titanic_data[\"Title\"] = titanic_data[\"Name\"].apply(lambda x: re.search(title_regex, x).group(1))\n",
    "\n",
    "# imprimir los títulos de los primeros 10 pasajeros\n",
    "print(titanic_data[\"Title\"].head(10))\n"
   ]
  },
  {
   "cell_type": "code",
   "execution_count": null,
   "id": "4d587a6e",
   "metadata": {},
   "outputs": [],
   "source": []
  },
  {
   "cell_type": "code",
   "execution_count": 15,
   "id": "7d327214",
   "metadata": {
    "ExecuteTime": {
     "end_time": "2023-03-16T11:46:58.790427Z",
     "start_time": "2023-03-16T11:46:58.770450Z"
    }
   },
   "outputs": [
    {
     "data": {
      "text/plain": [
       "0        Mr\n",
       "1       Mrs\n",
       "2      Miss\n",
       "3       Mrs\n",
       "4        Mr\n",
       "       ... \n",
       "886     Rev\n",
       "887    Miss\n",
       "888    Miss\n",
       "889      Mr\n",
       "890      Mr\n",
       "Name: Title, Length: 891, dtype: object"
      ]
     },
     "execution_count": 15,
     "metadata": {},
     "output_type": "execute_result"
    }
   ],
   "source": [
    "df['Title']"
   ]
  },
  {
   "cell_type": "code",
   "execution_count": null,
   "id": "6527ba2b",
   "metadata": {},
   "outputs": [],
   "source": []
  }
 ],
 "metadata": {
  "hide_input": false,
  "kernelspec": {
   "display_name": "Python 3 (ipykernel)",
   "language": "python",
   "name": "python3"
  },
  "language_info": {
   "codemirror_mode": {
    "name": "ipython",
    "version": 3
   },
   "file_extension": ".py",
   "mimetype": "text/x-python",
   "name": "python",
   "nbconvert_exporter": "python",
   "pygments_lexer": "ipython3",
   "version": "3.9.13"
  },
  "toc": {
   "base_numbering": 1,
   "nav_menu": {},
   "number_sections": true,
   "sideBar": true,
   "skip_h1_title": false,
   "title_cell": "Table of Contents",
   "title_sidebar": "Contents",
   "toc_cell": false,
   "toc_position": {
    "height": "calc(100% - 180px)",
    "left": "10px",
    "top": "150px",
    "width": "269.95px"
   },
   "toc_section_display": true,
   "toc_window_display": false
  },
  "varInspector": {
   "cols": {
    "lenName": 16,
    "lenType": 16,
    "lenVar": 40
   },
   "kernels_config": {
    "python": {
     "delete_cmd_postfix": "",
     "delete_cmd_prefix": "del ",
     "library": "var_list.py",
     "varRefreshCmd": "print(var_dic_list())"
    },
    "r": {
     "delete_cmd_postfix": ") ",
     "delete_cmd_prefix": "rm(",
     "library": "var_list.r",
     "varRefreshCmd": "cat(var_dic_list()) "
    }
   },
   "types_to_exclude": [
    "module",
    "function",
    "builtin_function_or_method",
    "instance",
    "_Feature"
   ],
   "window_display": false
  }
 },
 "nbformat": 4,
 "nbformat_minor": 5
}
